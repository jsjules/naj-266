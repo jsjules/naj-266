{
 "cells": [
  {
   "cell_type": "code",
   "metadata": {
    "execution": {
     "iopub.execute_input": "2021-06-11T21:28:46.636493Z",
     "iopub.status.busy": "2021-06-11T21:28:46.635889Z",
     "iopub.status.idle": "2021-06-11T21:28:54.444720Z",
     "shell.execute_reply": "2021-06-11T21:28:54.444071Z",
     "shell.execute_reply.started": "2021-06-11T21:15:41.666541Z"
    },
    "papermill": {
     "duration": 7.84017,
     "end_time": "2021-06-11T21:28:54.444920",
     "exception": false,
     "start_time": "2021-06-11T21:28:46.604750",
     "status": "completed"
    },
    "tags": [],
    "colab": {
     "base_uri": "https://localhost:8080/"
    },
    "id": "WrCJDVVkbit3",
    "outputId": "c04410bb-3c60-4ce1-e0d7-f84582a82060",
    "ExecuteTime": {
     "end_time": "2025-07-13T12:17:26.507151Z",
     "start_time": "2025-07-13T12:17:24.499954Z"
    }
   },
   "source": [
    "!pip install beautifulsoup4 emoji pytorch_transformers"
   ],
   "outputs": [
    {
     "name": "stdout",
     "output_type": "stream",
     "text": [
      "Requirement already satisfied: beautifulsoup4 in ./.venv/lib/python3.9/site-packages (4.13.4)\r\n",
      "Requirement already satisfied: emoji in ./.venv/lib/python3.9/site-packages (2.14.1)\r\n",
      "Requirement already satisfied: pytorch_transformers in ./.venv/lib/python3.9/site-packages (1.2.0)\r\n",
      "Requirement already satisfied: soupsieve>1.2 in ./.venv/lib/python3.9/site-packages (from beautifulsoup4) (2.7)\r\n",
      "Requirement already satisfied: typing-extensions>=4.0.0 in ./.venv/lib/python3.9/site-packages (from beautifulsoup4) (4.14.1)\r\n",
      "Requirement already satisfied: torch>=1.0.0 in ./.venv/lib/python3.9/site-packages (from pytorch_transformers) (2.2.2)\r\n",
      "Requirement already satisfied: numpy in ./.venv/lib/python3.9/site-packages (from pytorch_transformers) (1.26.4)\r\n",
      "Requirement already satisfied: boto3 in ./.venv/lib/python3.9/site-packages (from pytorch_transformers) (1.39.4)\r\n",
      "Requirement already satisfied: requests in ./.venv/lib/python3.9/site-packages (from pytorch_transformers) (2.32.4)\r\n",
      "Requirement already satisfied: tqdm in ./.venv/lib/python3.9/site-packages (from pytorch_transformers) (4.67.1)\r\n",
      "Requirement already satisfied: regex in ./.venv/lib/python3.9/site-packages (from pytorch_transformers) (2024.11.6)\r\n",
      "Requirement already satisfied: sentencepiece in ./.venv/lib/python3.9/site-packages (from pytorch_transformers) (0.2.0)\r\n",
      "Requirement already satisfied: sacremoses in ./.venv/lib/python3.9/site-packages (from pytorch_transformers) (0.1.1)\r\n",
      "Requirement already satisfied: filelock in ./.venv/lib/python3.9/site-packages (from torch>=1.0.0->pytorch_transformers) (3.18.0)\r\n",
      "Requirement already satisfied: sympy in ./.venv/lib/python3.9/site-packages (from torch>=1.0.0->pytorch_transformers) (1.14.0)\r\n",
      "Requirement already satisfied: networkx in ./.venv/lib/python3.9/site-packages (from torch>=1.0.0->pytorch_transformers) (3.2.1)\r\n",
      "Requirement already satisfied: jinja2 in ./.venv/lib/python3.9/site-packages (from torch>=1.0.0->pytorch_transformers) (3.1.6)\r\n",
      "Requirement already satisfied: fsspec in ./.venv/lib/python3.9/site-packages (from torch>=1.0.0->pytorch_transformers) (2025.3.0)\r\n",
      "Requirement already satisfied: botocore<1.40.0,>=1.39.4 in ./.venv/lib/python3.9/site-packages (from boto3->pytorch_transformers) (1.39.4)\r\n",
      "Requirement already satisfied: jmespath<2.0.0,>=0.7.1 in ./.venv/lib/python3.9/site-packages (from boto3->pytorch_transformers) (1.0.1)\r\n",
      "Requirement already satisfied: s3transfer<0.14.0,>=0.13.0 in ./.venv/lib/python3.9/site-packages (from boto3->pytorch_transformers) (0.13.0)\r\n",
      "Requirement already satisfied: python-dateutil<3.0.0,>=2.1 in ./.venv/lib/python3.9/site-packages (from botocore<1.40.0,>=1.39.4->boto3->pytorch_transformers) (2.9.0.post0)\r\n",
      "Requirement already satisfied: urllib3<1.27,>=1.25.4 in ./.venv/lib/python3.9/site-packages (from botocore<1.40.0,>=1.39.4->boto3->pytorch_transformers) (1.26.20)\r\n",
      "Requirement already satisfied: six>=1.5 in ./.venv/lib/python3.9/site-packages (from python-dateutil<3.0.0,>=2.1->botocore<1.40.0,>=1.39.4->boto3->pytorch_transformers) (1.17.0)\r\n",
      "Requirement already satisfied: MarkupSafe>=2.0 in ./.venv/lib/python3.9/site-packages (from jinja2->torch>=1.0.0->pytorch_transformers) (3.0.2)\r\n",
      "Requirement already satisfied: charset_normalizer<4,>=2 in ./.venv/lib/python3.9/site-packages (from requests->pytorch_transformers) (3.4.2)\r\n",
      "Requirement already satisfied: idna<4,>=2.5 in ./.venv/lib/python3.9/site-packages (from requests->pytorch_transformers) (3.10)\r\n",
      "Requirement already satisfied: certifi>=2017.4.17 in ./.venv/lib/python3.9/site-packages (from requests->pytorch_transformers) (2025.7.9)\r\n",
      "Requirement already satisfied: click in ./.venv/lib/python3.9/site-packages (from sacremoses->pytorch_transformers) (8.1.8)\r\n",
      "Requirement already satisfied: joblib in ./.venv/lib/python3.9/site-packages (from sacremoses->pytorch_transformers) (1.5.1)\r\n",
      "Requirement already satisfied: mpmath<1.4,>=1.1.0 in ./.venv/lib/python3.9/site-packages (from sympy->torch>=1.0.0->pytorch_transformers) (1.3.0)\r\n"
     ]
    }
   ],
   "execution_count": 38
  },
  {
   "cell_type": "code",
   "metadata": {
    "execution": {
     "iopub.execute_input": "2021-06-11T21:28:54.506965Z",
     "iopub.status.busy": "2021-06-11T21:28:54.506159Z",
     "iopub.status.idle": "2021-06-11T21:28:57.383058Z",
     "shell.execute_reply": "2021-06-11T21:28:57.382101Z",
     "shell.execute_reply.started": "2021-06-11T21:15:52.355748Z"
    },
    "papermill": {
     "duration": 2.910058,
     "end_time": "2021-06-11T21:28:57.383195",
     "exception": false,
     "start_time": "2021-06-11T21:28:54.473137",
     "status": "completed"
    },
    "tags": [],
    "id": "9eiCEN-Dbit7",
    "ExecuteTime": {
     "end_time": "2025-07-13T12:17:26.548349Z",
     "start_time": "2025-07-13T12:17:26.542492Z"
    }
   },
   "source": [
    "import os\n",
    "import re\n",
    "import string\n",
    "import json\n",
    "import emoji\n",
    "import numpy as np\n",
    "import pandas as pd\n",
    "from sklearn import metrics\n",
    "from bs4 import BeautifulSoup\n",
    "import transformers\n",
    "import torch\n",
    "from torch.utils.data import Dataset, DataLoader, RandomSampler, SequentialSampler\n",
    "from transformers import BertTokenizer, AutoTokenizer, BertModel, BertConfig, AutoModel\n",
    "try:\n",
    "    from transformers import AdamW\n",
    "except ImportError:\n",
    "    from pytorch_transformers import AdamW # Fallback import for older versions\n",
    "\n",
    "import warnings\n",
    "warnings.filterwarnings('ignore')\n",
    "\n",
    "pd.set_option(\"display.max_columns\", None)"
   ],
   "outputs": [],
   "execution_count": 39
  },
  {
   "cell_type": "code",
   "source": [
    "# from google.colab import drive\n",
    "# drive.mount('/content/drive')"
   ],
   "metadata": {
    "colab": {
     "base_uri": "https://localhost:8080/"
    },
    "id": "zHHFJcx8b8_N",
    "outputId": "9afd9295-1bb6-40a3-ab9e-78246035288d",
    "ExecuteTime": {
     "end_time": "2025-07-13T12:17:26.634685Z",
     "start_time": "2025-07-13T12:17:26.632029Z"
    }
   },
   "outputs": [],
   "execution_count": 40
  },
  {
   "cell_type": "code",
   "metadata": {
    "execution": {
     "iopub.execute_input": "2021-06-11T21:28:57.451072Z",
     "iopub.status.busy": "2021-06-11T21:28:57.450551Z",
     "iopub.status.idle": "2021-06-11T21:28:57.614955Z",
     "shell.execute_reply": "2021-06-11T21:28:57.614182Z",
     "shell.execute_reply.started": "2021-06-11T21:15:55.988240Z"
    },
    "papermill": {
     "duration": 0.203876,
     "end_time": "2021-06-11T21:28:57.615094",
     "exception": false,
     "start_time": "2021-06-11T21:28:57.411218",
     "status": "completed"
    },
    "tags": [],
    "id": "e4rXl6WBbit7",
    "ExecuteTime": {
     "end_time": "2025-07-13T12:17:26.859553Z",
     "start_time": "2025-07-13T12:17:26.742618Z"
    }
   },
   "source": [
    "df_train = pd.read_csv(\"data/train.tsv\", sep='\\t', header=None, names=['Text', 'Class', 'ID'])\n",
    "df_dev = pd.read_csv(\"data/dev.tsv\", sep='\\t', header=None, names=['Text', 'Class', 'ID'])\n",
    "\n",
    "# df_train = pd.read_csv(\"drive/MyDrive/datasci-266/data/train.tsv\", sep='\\t', header=None, names=['Text', 'Class', 'ID'])\n",
    "# df_dev = pd.read_csv(\"drive/MyDrive/datasci-266/data/dev.tsv\", sep='\\t', header=None, names=['Text', 'Class', 'ID'])"
   ],
   "outputs": [],
   "execution_count": 41
  },
  {
   "cell_type": "code",
   "metadata": {
    "execution": {
     "iopub.execute_input": "2021-06-11T21:28:57.782142Z",
     "iopub.status.busy": "2021-06-11T21:28:57.771978Z",
     "iopub.status.idle": "2021-06-11T21:28:57.816985Z",
     "shell.execute_reply": "2021-06-11T21:28:57.816508Z",
     "shell.execute_reply.started": "2021-06-11T21:15:56.163398Z"
    },
    "papermill": {
     "duration": 0.174667,
     "end_time": "2021-06-11T21:28:57.817119",
     "exception": false,
     "start_time": "2021-06-11T21:28:57.642452",
     "status": "completed"
    },
    "tags": [],
    "id": "p6Lefihsbit8",
    "ExecuteTime": {
     "end_time": "2025-07-13T12:17:26.943656Z",
     "start_time": "2025-07-13T12:17:26.894681Z"
    }
   },
   "source": [
    "df_train['List of classes'] = df_train['Class'].apply(lambda x: x.split(','))\n",
    "df_train['Len of classes'] = df_train['List of classes'].apply(lambda x: len(x))\n",
    "df_dev['List of classes'] = df_dev['Class'].apply(lambda x: x.split(','))\n",
    "df_dev['Len of classes'] = df_dev['List of classes'].apply(lambda x: len(x))"
   ],
   "outputs": [],
   "execution_count": 42
  },
  {
   "cell_type": "code",
   "metadata": {
    "execution": {
     "iopub.execute_input": "2021-06-11T21:28:57.874789Z",
     "iopub.status.busy": "2021-06-11T21:28:57.874172Z",
     "iopub.status.idle": "2021-06-11T21:28:57.884175Z",
     "shell.execute_reply": "2021-06-11T21:28:57.883775Z",
     "shell.execute_reply.started": "2021-06-11T21:15:56.319041Z"
    },
    "papermill": {
     "duration": 0.040077,
     "end_time": "2021-06-11T21:28:57.884313",
     "exception": false,
     "start_time": "2021-06-11T21:28:57.844236",
     "status": "completed"
    },
    "tags": [],
    "id": "WtylIQO7bit8",
    "ExecuteTime": {
     "end_time": "2025-07-13T12:17:27.010234Z",
     "start_time": "2025-07-13T12:17:27.006423Z"
    }
   },
   "source": [
    "with open('data/ekman_mapping.json') as file:\n",
    "# with open('drive/MyDrive/datasci-266/data/ekman_mapping.json') as file:\n",
    "    ekman_mapping = json.load(file)"
   ],
   "outputs": [],
   "execution_count": 43
  },
  {
   "cell_type": "code",
   "metadata": {
    "execution": {
     "iopub.execute_input": "2021-06-11T21:28:57.942747Z",
     "iopub.status.busy": "2021-06-11T21:28:57.942113Z",
     "iopub.status.idle": "2021-06-11T21:28:57.951746Z",
     "shell.execute_reply": "2021-06-11T21:28:57.951163Z",
     "shell.execute_reply.started": "2021-06-11T21:15:56.334832Z"
    },
    "papermill": {
     "duration": 0.040091,
     "end_time": "2021-06-11T21:28:57.951872",
     "exception": false,
     "start_time": "2021-06-11T21:28:57.911781",
     "status": "completed"
    },
    "tags": [],
    "colab": {
     "base_uri": "https://localhost:8080/"
    },
    "id": "mQ-S5FqZbit9",
    "outputId": "37fe7ae0-1935-4777-cc31-9b381bb38e7e",
    "ExecuteTime": {
     "end_time": "2025-07-13T12:17:27.068597Z",
     "start_time": "2025-07-13T12:17:27.063731Z"
    }
   },
   "source": [
    "emotion_file = open(\"data/emotions.txt\", \"r\")\n",
    "# emotion_file = open(\"drive/MyDrive/datasci-266/data/emotions.txt\", \"r\")\n",
    "emotion_list = emotion_file.read()\n",
    "emotion_list = emotion_list.split(\"\\n\")\n",
    "print(emotion_list)"
   ],
   "outputs": [
    {
     "name": "stdout",
     "output_type": "stream",
     "text": [
      "['admiration', 'amusement', 'anger', 'annoyance', 'approval', 'caring', 'confusion', 'curiosity', 'desire', 'disappointment', 'disapproval', 'disgust', 'embarrassment', 'excitement', 'fear', 'gratitude', 'grief', 'joy', 'love', 'nervousness', 'optimism', 'pride', 'realization', 'relief', 'remorse', 'sadness', 'surprise', 'neutral']\n"
     ]
    }
   ],
   "execution_count": 44
  },
  {
   "cell_type": "code",
   "metadata": {
    "execution": {
     "iopub.execute_input": "2021-06-11T21:28:58.010519Z",
     "iopub.status.busy": "2021-06-11T21:28:58.009807Z",
     "iopub.status.idle": "2021-06-11T21:28:58.012731Z",
     "shell.execute_reply": "2021-06-11T21:28:58.012333Z",
     "shell.execute_reply.started": "2021-06-11T21:15:56.347670Z"
    },
    "papermill": {
     "duration": 0.033906,
     "end_time": "2021-06-11T21:28:58.012842",
     "exception": false,
     "start_time": "2021-06-11T21:28:57.978936",
     "status": "completed"
    },
    "tags": [],
    "id": "ts9TByPnbit9",
    "ExecuteTime": {
     "end_time": "2025-07-13T12:17:27.162174Z",
     "start_time": "2025-07-13T12:17:27.158787Z"
    }
   },
   "source": [
    "def idx2class(idx_list):\n",
    "    arr = []\n",
    "    for i in idx_list:\n",
    "        arr.append(emotion_list[int(i)])\n",
    "    return arr"
   ],
   "outputs": [],
   "execution_count": 45
  },
  {
   "cell_type": "code",
   "metadata": {
    "execution": {
     "iopub.execute_input": "2021-06-11T21:28:58.091842Z",
     "iopub.status.busy": "2021-06-11T21:28:58.076467Z",
     "iopub.status.idle": "2021-06-11T21:28:58.112991Z",
     "shell.execute_reply": "2021-06-11T21:28:58.112560Z",
     "shell.execute_reply.started": "2021-06-11T21:15:56.357305Z"
    },
    "papermill": {
     "duration": 0.073552,
     "end_time": "2021-06-11T21:28:58.113125",
     "exception": false,
     "start_time": "2021-06-11T21:28:58.039573",
     "status": "completed"
    },
    "tags": [],
    "id": "UGXmG9labit9",
    "ExecuteTime": {
     "end_time": "2025-07-13T12:17:27.310801Z",
     "start_time": "2025-07-13T12:17:27.271307Z"
    }
   },
   "source": [
    "df_train['Emotions'] = df_train['List of classes'].apply(idx2class)\n",
    "df_dev['Emotions'] = df_dev['List of classes'].apply(idx2class)"
   ],
   "outputs": [],
   "execution_count": 46
  },
  {
   "cell_type": "code",
   "metadata": {
    "execution": {
     "iopub.execute_input": "2021-06-11T21:28:58.173803Z",
     "iopub.status.busy": "2021-06-11T21:28:58.173044Z",
     "iopub.status.idle": "2021-06-11T21:28:58.175894Z",
     "shell.execute_reply": "2021-06-11T21:28:58.175486Z",
     "shell.execute_reply.started": "2021-06-11T21:15:56.589192Z"
    },
    "papermill": {
     "duration": 0.035899,
     "end_time": "2021-06-11T21:28:58.176010",
     "exception": false,
     "start_time": "2021-06-11T21:28:58.140111",
     "status": "completed"
    },
    "tags": [],
    "id": "QOtoL5Fsbit-",
    "ExecuteTime": {
     "end_time": "2025-07-13T12:17:27.362760Z",
     "start_time": "2025-07-13T12:17:27.357206Z"
    }
   },
   "source": [
    "def EmotionMapping(emotion_list):\n",
    "    map_list = []\n",
    "\n",
    "    for i in emotion_list:\n",
    "        if i in ekman_mapping['anger']:\n",
    "            map_list.append('anger')\n",
    "        if i in ekman_mapping['disgust']:\n",
    "            map_list.append('disgust')\n",
    "        if i in ekman_mapping['fear']:\n",
    "            map_list.append('fear')\n",
    "        if i in ekman_mapping['joy']:\n",
    "            map_list.append('joy')\n",
    "        if i in ekman_mapping['sadness']:\n",
    "            map_list.append('sadness')\n",
    "        if i in ekman_mapping['surprise']:\n",
    "            map_list.append('surprise')\n",
    "        if i == 'neutral':\n",
    "            map_list.append('neutral')\n",
    "\n",
    "    return map_list"
   ],
   "outputs": [],
   "execution_count": 47
  },
  {
   "cell_type": "code",
   "metadata": {
    "execution": {
     "iopub.execute_input": "2021-06-11T21:28:58.384809Z",
     "iopub.status.busy": "2021-06-11T21:28:58.347227Z",
     "iopub.status.idle": "2021-06-11T21:28:58.396229Z",
     "shell.execute_reply": "2021-06-11T21:28:58.395778Z",
     "shell.execute_reply.started": "2021-06-11T21:15:56.618994Z"
    },
    "papermill": {
     "duration": 0.193401,
     "end_time": "2021-06-11T21:28:58.396367",
     "exception": false,
     "start_time": "2021-06-11T21:28:58.202966",
     "status": "completed"
    },
    "tags": [],
    "id": "Gxj197m4bit-",
    "ExecuteTime": {
     "end_time": "2025-07-13T12:17:27.763736Z",
     "start_time": "2025-07-13T12:17:27.428360Z"
    }
   },
   "source": [
    "df_train['Mapped Emotions'] = df_train['Emotions'].apply(EmotionMapping)\n",
    "df_dev['Mapped Emotions'] = df_dev['Emotions'].apply(EmotionMapping)"
   ],
   "outputs": [],
   "execution_count": 48
  },
  {
   "cell_type": "code",
   "metadata": {
    "execution": {
     "iopub.execute_input": "2021-06-11T21:28:58.459301Z",
     "iopub.status.busy": "2021-06-11T21:28:58.458476Z",
     "iopub.status.idle": "2021-06-11T21:28:58.468377Z",
     "shell.execute_reply": "2021-06-11T21:28:58.468783Z",
     "shell.execute_reply.started": "2021-06-11T21:15:56.784865Z"
    },
    "papermill": {
     "duration": 0.045452,
     "end_time": "2021-06-11T21:28:58.468916",
     "exception": false,
     "start_time": "2021-06-11T21:28:58.423464",
     "status": "completed"
    },
    "tags": [],
    "id": "GtRkx6y4bit-",
    "ExecuteTime": {
     "end_time": "2025-07-13T12:17:27.805052Z",
     "start_time": "2025-07-13T12:17:27.792971Z"
    }
   },
   "source": [
    "df_train['anger'] = np.zeros((len(df_train),1))\n",
    "df_train['disgust'] = np.zeros((len(df_train),1))\n",
    "df_train['fear'] = np.zeros((len(df_train),1))\n",
    "df_train['joy'] = np.zeros((len(df_train),1))\n",
    "df_train['sadness'] = np.zeros((len(df_train),1))\n",
    "df_train['surprise'] = np.zeros((len(df_train),1))\n",
    "df_train['neutral'] = np.zeros((len(df_train),1))\n",
    "\n",
    "df_dev['anger'] = np.zeros((len(df_dev),1))\n",
    "df_dev['disgust'] = np.zeros((len(df_dev),1))\n",
    "df_dev['fear'] = np.zeros((len(df_dev),1))\n",
    "df_dev['joy'] = np.zeros((len(df_dev),1))\n",
    "df_dev['sadness'] = np.zeros((len(df_dev),1))\n",
    "df_dev['surprise'] = np.zeros((len(df_dev),1))\n",
    "df_dev['neutral'] = np.zeros((len(df_dev),1))"
   ],
   "outputs": [],
   "execution_count": 49
  },
  {
   "cell_type": "code",
   "metadata": {
    "execution": {
     "iopub.execute_input": "2021-06-11T21:28:58.528647Z",
     "iopub.status.busy": "2021-06-11T21:28:58.527829Z",
     "iopub.status.idle": "2021-06-11T21:28:58.705654Z",
     "shell.execute_reply": "2021-06-11T21:28:58.705147Z",
     "shell.execute_reply.started": "2021-06-11T21:15:56.822194Z"
    },
    "papermill": {
     "duration": 0.209431,
     "end_time": "2021-06-11T21:28:58.705793",
     "exception": false,
     "start_time": "2021-06-11T21:28:58.496362",
     "status": "completed"
    },
    "tags": [],
    "id": "7lxYVBkibit_",
    "ExecuteTime": {
     "end_time": "2025-07-13T12:17:27.995340Z",
     "start_time": "2025-07-13T12:17:27.865177Z"
    }
   },
   "source": [
    "for i in ['anger', 'disgust', 'fear', 'joy', 'sadness', 'surprise','neutral']:\n",
    "    df_train[i] = df_train['Mapped Emotions'].apply(lambda x: 1 if i in x else 0)\n",
    "    df_dev[i] = df_dev['Mapped Emotions'].apply(lambda x: 1 if i in x else 0)"
   ],
   "outputs": [],
   "execution_count": 50
  },
  {
   "cell_type": "code",
   "metadata": {
    "execution": {
     "iopub.execute_input": "2021-06-11T21:28:58.767550Z",
     "iopub.status.busy": "2021-06-11T21:28:58.766999Z",
     "iopub.status.idle": "2021-06-11T21:28:58.787655Z",
     "shell.execute_reply": "2021-06-11T21:28:58.788053Z",
     "shell.execute_reply.started": "2021-06-11T21:15:57.128141Z"
    },
    "papermill": {
     "duration": 0.054517,
     "end_time": "2021-06-11T21:28:58.788188",
     "exception": false,
     "start_time": "2021-06-11T21:28:58.733671",
     "status": "completed"
    },
    "tags": [],
    "colab": {
     "base_uri": "https://localhost:8080/",
     "height": 521
    },
    "id": "q8tsCEOGbit_",
    "outputId": "1b41159d-28f5-4cf2-a95e-851d43f22413",
    "ExecuteTime": {
     "end_time": "2025-07-13T12:17:28.043431Z",
     "start_time": "2025-07-13T12:17:28.028914Z"
    }
   },
   "source": [
    "df_train.head()"
   ],
   "outputs": [
    {
     "data": {
      "text/plain": [
       "                                                Text Class       ID  \\\n",
       "0  My favourite food is anything I didn't have to...    27  eebbqej   \n",
       "1  Now if he does off himself, everyone will thin...    27  ed00q6i   \n",
       "2                     WHY THE FUCK IS BAYLESS ISOING     2  eezlygj   \n",
       "3                        To make her feel threatened    14  ed7ypvh   \n",
       "4                             Dirty Southern Wankers     3  ed0bdzj   \n",
       "\n",
       "  List of classes  Len of classes     Emotions Mapped Emotions  anger  \\\n",
       "0            [27]               1    [neutral]       [neutral]      0   \n",
       "1            [27]               1    [neutral]       [neutral]      0   \n",
       "2             [2]               1      [anger]         [anger]      1   \n",
       "3            [14]               1       [fear]          [fear]      0   \n",
       "4             [3]               1  [annoyance]         [anger]      1   \n",
       "\n",
       "   disgust  fear  joy  sadness  surprise  neutral  \n",
       "0        0     0    0        0         0        1  \n",
       "1        0     0    0        0         0        1  \n",
       "2        0     0    0        0         0        0  \n",
       "3        0     1    0        0         0        0  \n",
       "4        0     0    0        0         0        0  "
      ],
      "text/html": [
       "<div>\n",
       "<style scoped>\n",
       "    .dataframe tbody tr th:only-of-type {\n",
       "        vertical-align: middle;\n",
       "    }\n",
       "\n",
       "    .dataframe tbody tr th {\n",
       "        vertical-align: top;\n",
       "    }\n",
       "\n",
       "    .dataframe thead th {\n",
       "        text-align: right;\n",
       "    }\n",
       "</style>\n",
       "<table border=\"1\" class=\"dataframe\">\n",
       "  <thead>\n",
       "    <tr style=\"text-align: right;\">\n",
       "      <th></th>\n",
       "      <th>Text</th>\n",
       "      <th>Class</th>\n",
       "      <th>ID</th>\n",
       "      <th>List of classes</th>\n",
       "      <th>Len of classes</th>\n",
       "      <th>Emotions</th>\n",
       "      <th>Mapped Emotions</th>\n",
       "      <th>anger</th>\n",
       "      <th>disgust</th>\n",
       "      <th>fear</th>\n",
       "      <th>joy</th>\n",
       "      <th>sadness</th>\n",
       "      <th>surprise</th>\n",
       "      <th>neutral</th>\n",
       "    </tr>\n",
       "  </thead>\n",
       "  <tbody>\n",
       "    <tr>\n",
       "      <th>0</th>\n",
       "      <td>My favourite food is anything I didn't have to...</td>\n",
       "      <td>27</td>\n",
       "      <td>eebbqej</td>\n",
       "      <td>[27]</td>\n",
       "      <td>1</td>\n",
       "      <td>[neutral]</td>\n",
       "      <td>[neutral]</td>\n",
       "      <td>0</td>\n",
       "      <td>0</td>\n",
       "      <td>0</td>\n",
       "      <td>0</td>\n",
       "      <td>0</td>\n",
       "      <td>0</td>\n",
       "      <td>1</td>\n",
       "    </tr>\n",
       "    <tr>\n",
       "      <th>1</th>\n",
       "      <td>Now if he does off himself, everyone will thin...</td>\n",
       "      <td>27</td>\n",
       "      <td>ed00q6i</td>\n",
       "      <td>[27]</td>\n",
       "      <td>1</td>\n",
       "      <td>[neutral]</td>\n",
       "      <td>[neutral]</td>\n",
       "      <td>0</td>\n",
       "      <td>0</td>\n",
       "      <td>0</td>\n",
       "      <td>0</td>\n",
       "      <td>0</td>\n",
       "      <td>0</td>\n",
       "      <td>1</td>\n",
       "    </tr>\n",
       "    <tr>\n",
       "      <th>2</th>\n",
       "      <td>WHY THE FUCK IS BAYLESS ISOING</td>\n",
       "      <td>2</td>\n",
       "      <td>eezlygj</td>\n",
       "      <td>[2]</td>\n",
       "      <td>1</td>\n",
       "      <td>[anger]</td>\n",
       "      <td>[anger]</td>\n",
       "      <td>1</td>\n",
       "      <td>0</td>\n",
       "      <td>0</td>\n",
       "      <td>0</td>\n",
       "      <td>0</td>\n",
       "      <td>0</td>\n",
       "      <td>0</td>\n",
       "    </tr>\n",
       "    <tr>\n",
       "      <th>3</th>\n",
       "      <td>To make her feel threatened</td>\n",
       "      <td>14</td>\n",
       "      <td>ed7ypvh</td>\n",
       "      <td>[14]</td>\n",
       "      <td>1</td>\n",
       "      <td>[fear]</td>\n",
       "      <td>[fear]</td>\n",
       "      <td>0</td>\n",
       "      <td>0</td>\n",
       "      <td>1</td>\n",
       "      <td>0</td>\n",
       "      <td>0</td>\n",
       "      <td>0</td>\n",
       "      <td>0</td>\n",
       "    </tr>\n",
       "    <tr>\n",
       "      <th>4</th>\n",
       "      <td>Dirty Southern Wankers</td>\n",
       "      <td>3</td>\n",
       "      <td>ed0bdzj</td>\n",
       "      <td>[3]</td>\n",
       "      <td>1</td>\n",
       "      <td>[annoyance]</td>\n",
       "      <td>[anger]</td>\n",
       "      <td>1</td>\n",
       "      <td>0</td>\n",
       "      <td>0</td>\n",
       "      <td>0</td>\n",
       "      <td>0</td>\n",
       "      <td>0</td>\n",
       "      <td>0</td>\n",
       "    </tr>\n",
       "  </tbody>\n",
       "</table>\n",
       "</div>"
      ]
     },
     "execution_count": 51,
     "metadata": {},
     "output_type": "execute_result"
    }
   ],
   "execution_count": 51
  },
  {
   "cell_type": "code",
   "metadata": {
    "execution": {
     "iopub.execute_input": "2021-06-11T21:28:58.861097Z",
     "iopub.status.busy": "2021-06-11T21:28:58.860190Z",
     "iopub.status.idle": "2021-06-11T21:28:58.864035Z",
     "shell.execute_reply": "2021-06-11T21:28:58.863638Z",
     "shell.execute_reply.started": "2021-06-11T21:15:57.164889Z"
    },
    "papermill": {
     "duration": 0.04847,
     "end_time": "2021-06-11T21:28:58.864147",
     "exception": false,
     "start_time": "2021-06-11T21:28:58.815677",
     "status": "completed"
    },
    "tags": [],
    "colab": {
     "base_uri": "https://localhost:8080/",
     "height": 608
    },
    "id": "7sxqWI2Ubit_",
    "outputId": "fc1dc124-7255-4c38-f5f0-8e3fc4c32bce",
    "ExecuteTime": {
     "end_time": "2025-07-13T12:17:28.203352Z",
     "start_time": "2025-07-13T12:17:28.187288Z"
    }
   },
   "source": [
    "df_dev.head()"
   ],
   "outputs": [
    {
     "data": {
      "text/plain": [
       "                                                Text Class       ID  \\\n",
       "0  Is this in New Orleans?? I really feel like th...    27  edgurhb   \n",
       "1  You know the answer man, you are programmed to...  4,27  ee84bjg   \n",
       "2               I've never been this sad in my life!    25  edcu99z   \n",
       "3  The economy is heavily controlled and subsidiz...  4,27  edc32e2   \n",
       "4  He could have easily taken a real camera from ...    20  eepig6r   \n",
       "\n",
       "  List of classes  Len of classes             Emotions Mapped Emotions  anger  \\\n",
       "0            [27]               1            [neutral]       [neutral]      0   \n",
       "1         [4, 27]               2  [approval, neutral]  [joy, neutral]      0   \n",
       "2            [25]               1            [sadness]       [sadness]      0   \n",
       "3         [4, 27]               2  [approval, neutral]  [joy, neutral]      0   \n",
       "4            [20]               1           [optimism]           [joy]      0   \n",
       "\n",
       "   disgust  fear  joy  sadness  surprise  neutral  \n",
       "0        0     0    0        0         0        1  \n",
       "1        0     0    1        0         0        1  \n",
       "2        0     0    0        1         0        0  \n",
       "3        0     0    1        0         0        1  \n",
       "4        0     0    1        0         0        0  "
      ],
      "text/html": [
       "<div>\n",
       "<style scoped>\n",
       "    .dataframe tbody tr th:only-of-type {\n",
       "        vertical-align: middle;\n",
       "    }\n",
       "\n",
       "    .dataframe tbody tr th {\n",
       "        vertical-align: top;\n",
       "    }\n",
       "\n",
       "    .dataframe thead th {\n",
       "        text-align: right;\n",
       "    }\n",
       "</style>\n",
       "<table border=\"1\" class=\"dataframe\">\n",
       "  <thead>\n",
       "    <tr style=\"text-align: right;\">\n",
       "      <th></th>\n",
       "      <th>Text</th>\n",
       "      <th>Class</th>\n",
       "      <th>ID</th>\n",
       "      <th>List of classes</th>\n",
       "      <th>Len of classes</th>\n",
       "      <th>Emotions</th>\n",
       "      <th>Mapped Emotions</th>\n",
       "      <th>anger</th>\n",
       "      <th>disgust</th>\n",
       "      <th>fear</th>\n",
       "      <th>joy</th>\n",
       "      <th>sadness</th>\n",
       "      <th>surprise</th>\n",
       "      <th>neutral</th>\n",
       "    </tr>\n",
       "  </thead>\n",
       "  <tbody>\n",
       "    <tr>\n",
       "      <th>0</th>\n",
       "      <td>Is this in New Orleans?? I really feel like th...</td>\n",
       "      <td>27</td>\n",
       "      <td>edgurhb</td>\n",
       "      <td>[27]</td>\n",
       "      <td>1</td>\n",
       "      <td>[neutral]</td>\n",
       "      <td>[neutral]</td>\n",
       "      <td>0</td>\n",
       "      <td>0</td>\n",
       "      <td>0</td>\n",
       "      <td>0</td>\n",
       "      <td>0</td>\n",
       "      <td>0</td>\n",
       "      <td>1</td>\n",
       "    </tr>\n",
       "    <tr>\n",
       "      <th>1</th>\n",
       "      <td>You know the answer man, you are programmed to...</td>\n",
       "      <td>4,27</td>\n",
       "      <td>ee84bjg</td>\n",
       "      <td>[4, 27]</td>\n",
       "      <td>2</td>\n",
       "      <td>[approval, neutral]</td>\n",
       "      <td>[joy, neutral]</td>\n",
       "      <td>0</td>\n",
       "      <td>0</td>\n",
       "      <td>0</td>\n",
       "      <td>1</td>\n",
       "      <td>0</td>\n",
       "      <td>0</td>\n",
       "      <td>1</td>\n",
       "    </tr>\n",
       "    <tr>\n",
       "      <th>2</th>\n",
       "      <td>I've never been this sad in my life!</td>\n",
       "      <td>25</td>\n",
       "      <td>edcu99z</td>\n",
       "      <td>[25]</td>\n",
       "      <td>1</td>\n",
       "      <td>[sadness]</td>\n",
       "      <td>[sadness]</td>\n",
       "      <td>0</td>\n",
       "      <td>0</td>\n",
       "      <td>0</td>\n",
       "      <td>0</td>\n",
       "      <td>1</td>\n",
       "      <td>0</td>\n",
       "      <td>0</td>\n",
       "    </tr>\n",
       "    <tr>\n",
       "      <th>3</th>\n",
       "      <td>The economy is heavily controlled and subsidiz...</td>\n",
       "      <td>4,27</td>\n",
       "      <td>edc32e2</td>\n",
       "      <td>[4, 27]</td>\n",
       "      <td>2</td>\n",
       "      <td>[approval, neutral]</td>\n",
       "      <td>[joy, neutral]</td>\n",
       "      <td>0</td>\n",
       "      <td>0</td>\n",
       "      <td>0</td>\n",
       "      <td>1</td>\n",
       "      <td>0</td>\n",
       "      <td>0</td>\n",
       "      <td>1</td>\n",
       "    </tr>\n",
       "    <tr>\n",
       "      <th>4</th>\n",
       "      <td>He could have easily taken a real camera from ...</td>\n",
       "      <td>20</td>\n",
       "      <td>eepig6r</td>\n",
       "      <td>[20]</td>\n",
       "      <td>1</td>\n",
       "      <td>[optimism]</td>\n",
       "      <td>[joy]</td>\n",
       "      <td>0</td>\n",
       "      <td>0</td>\n",
       "      <td>0</td>\n",
       "      <td>1</td>\n",
       "      <td>0</td>\n",
       "      <td>0</td>\n",
       "      <td>0</td>\n",
       "    </tr>\n",
       "  </tbody>\n",
       "</table>\n",
       "</div>"
      ]
     },
     "execution_count": 52,
     "metadata": {},
     "output_type": "execute_result"
    }
   ],
   "execution_count": 52
  },
  {
   "cell_type": "code",
   "metadata": {
    "execution": {
     "iopub.execute_input": "2021-06-11T21:28:58.925691Z",
     "iopub.status.busy": "2021-06-11T21:28:58.925066Z",
     "iopub.status.idle": "2021-06-11T21:28:58.978393Z",
     "shell.execute_reply": "2021-06-11T21:28:58.977430Z",
     "shell.execute_reply.started": "2021-06-11T21:15:57.192562Z"
    },
    "papermill": {
     "duration": 0.086563,
     "end_time": "2021-06-11T21:28:58.978529",
     "exception": false,
     "start_time": "2021-06-11T21:28:58.891966",
     "status": "completed"
    },
    "tags": [],
    "id": "u4FhONmDbit_",
    "ExecuteTime": {
     "end_time": "2025-07-13T12:17:28.464442Z",
     "start_time": "2025-07-13T12:17:28.434090Z"
    }
   },
   "source": [
    "df_train.drop(df_train[df_train['neutral'] == 1].index, inplace=True)\n",
    "df_dev.drop(df_dev[df_dev['neutral'] == 1].index, inplace=True)\n",
    "df_train.drop(df_train[df_train['disgust'] == 1].index, inplace=True)\n",
    "df_dev.drop(df_dev[df_dev['disgust'] == 1].index, inplace=True)"
   ],
   "outputs": [],
   "execution_count": 53
  },
  {
   "cell_type": "code",
   "metadata": {
    "execution": {
     "iopub.execute_input": "2021-06-11T21:28:59.043617Z",
     "iopub.status.busy": "2021-06-11T21:28:59.042881Z",
     "iopub.status.idle": "2021-06-11T21:28:59.045793Z",
     "shell.execute_reply": "2021-06-11T21:28:59.045370Z",
     "shell.execute_reply.started": "2021-06-11T21:15:57.254139Z"
    },
    "papermill": {
     "duration": 0.039512,
     "end_time": "2021-06-11T21:28:59.045913",
     "exception": false,
     "start_time": "2021-06-11T21:28:59.006401",
     "status": "completed"
    },
    "tags": [],
    "id": "TCZJuxL1bit_",
    "ExecuteTime": {
     "end_time": "2025-07-13T12:17:28.749520Z",
     "start_time": "2025-07-13T12:17:28.740925Z"
    }
   },
   "source": [
    "df_train.drop(['Class', 'List of classes', 'Len of classes', 'Emotions', 'Mapped Emotions', 'neutral', 'disgust'], axis=1, inplace=True)\n",
    "df_dev.drop(['Class', 'List of classes', 'Len of classes', 'Emotions', 'Mapped Emotions', 'neutral', 'disgust'], axis=1, inplace=True)"
   ],
   "outputs": [],
   "execution_count": 54
  },
  {
   "cell_type": "code",
   "metadata": {
    "execution": {
     "iopub.execute_input": "2021-06-11T21:28:59.125320Z",
     "iopub.status.busy": "2021-06-11T21:28:59.124358Z",
     "iopub.status.idle": "2021-06-11T21:28:59.126597Z",
     "shell.execute_reply": "2021-06-11T21:28:59.126961Z",
     "shell.execute_reply.started": "2021-06-11T21:15:57.268271Z"
    },
    "papermill": {
     "duration": 0.053282,
     "end_time": "2021-06-11T21:28:59.127109",
     "exception": false,
     "start_time": "2021-06-11T21:28:59.073827",
     "status": "completed"
    },
    "tags": [],
    "id": "3wE0G7SCbit_",
    "ExecuteTime": {
     "end_time": "2025-07-13T12:17:28.954483Z",
     "start_time": "2025-07-13T12:17:28.934731Z"
    }
   },
   "source": [
    "contraction_mapping = {\"ain't\": \"is not\", \"aren't\": \"are not\",\"can't\": \"cannot\", \"'cause\": \"because\", \"could've\": \"could have\", \"couldn't\": \"could not\",\n",
    "                       \"didn't\": \"did not\",  \"doesn't\": \"does not\", \"don't\": \"do not\", \"hadn't\": \"had not\", \"hasn't\": \"has not\", \"haven't\": \"have not\",\n",
    "                       \"he'd\": \"he would\",\"he'll\": \"he will\", \"he's\": \"he is\", \"how'd\": \"how did\", \"how'd'y\": \"how do you\", \"how'll\": \"how will\",\n",
    "                       \"how's\": \"how is\",  \"I'd\": \"I would\", \"I'd've\": \"I would have\", \"I'll\": \"I will\", \"I'll've\": \"I will have\",\"I'm\": \"I am\",\n",
    "                       \"I've\": \"I have\", \"i'd\": \"i would\", \"i'd've\": \"i would have\", \"i'll\": \"i will\",  \"i'll've\": \"i will have\",\"i'm\": \"i am\",\n",
    "                       \"i've\": \"i have\", \"isn't\": \"is not\", \"it'd\": \"it would\", \"it'd've\": \"it would have\", \"it'll\": \"it will\", \"it'll've\": \"it will have\",\n",
    "                       \"it's\": \"it is\", \"let's\": \"let us\", \"ma'am\": \"madam\", \"mayn't\": \"may not\", \"might've\": \"might have\",\"mightn't\": \"might not\",\n",
    "                       \"mightn't've\": \"might not have\", \"must've\": \"must have\", \"mustn't\": \"must not\", \"mustn't've\": \"must not have\", \"needn't\": \"need not\",\n",
    "                       \"needn't've\": \"need not have\",\"o'clock\": \"of the clock\", \"oughtn't\": \"ought not\", \"oughtn't've\": \"ought not have\", \"shan't\": \"shall not\",\n",
    "                       \"sha'n't\": \"shall not\", \"shan't've\": \"shall not have\", \"she'd\": \"she would\", \"she'd've\": \"she would have\", \"she'll\": \"she will\",\n",
    "                       \"she'll've\": \"she will have\", \"she's\": \"she is\", \"should've\": \"should have\", \"shouldn't\": \"should not\", \"shouldn't've\": \"should not have\",\n",
    "                       \"so've\": \"so have\",\"so's\": \"so as\", \"this's\": \"this is\",\"that'd\": \"that would\", \"that'd've\": \"that would have\", \"that's\": \"that is\",\n",
    "                       \"there'd\": \"there would\", \"there'd've\": \"there would have\", \"there's\": \"there is\", \"here's\": \"here is\",\"they'd\": \"they would\",\n",
    "                       \"they'd've\": \"they would have\", \"they'll\": \"they will\", \"they'll've\": \"they will have\", \"they're\": \"they are\", \"they've\": \"they have\",\n",
    "                       \"to've\": \"to have\", \"wasn't\": \"was not\", \"we'd\": \"we would\", \"we'd've\": \"we would have\", \"we'll\": \"we will\", \"we'll've\": \"we will have\",\n",
    "                       \"we're\": \"we are\", \"we've\": \"we have\", \"weren't\": \"were not\", \"what'll\": \"what will\", \"what'll've\": \"what will have\",\n",
    "                       \"what're\": \"what are\",  \"what's\": \"what is\", \"what've\": \"what have\", \"when's\": \"when is\", \"when've\": \"when have\", \"where'd\": \"where did\",\n",
    "                       \"where's\": \"where is\", \"where've\": \"where have\", \"who'll\": \"who will\", \"who'll've\": \"who will have\", \"who's\": \"who is\",\n",
    "                       \"who've\": \"who have\", \"why's\": \"why is\", \"why've\": \"why have\", \"will've\": \"will have\", \"won't\": \"will not\", \"won't've\": \"will not have\",\n",
    "                       \"would've\": \"would have\", \"wouldn't\": \"would not\", \"wouldn't've\": \"would not have\", \"y'all\": \"you all\", \"y'all'd\": \"you all would\",\n",
    "                       \"y'all'd've\": \"you all would have\",\"y'all're\": \"you all are\",\"y'all've\": \"you all have\",\"you'd\": \"you would\", \"you'd've\": \"you would have\",\n",
    "                       \"you'll\": \"you will\", \"you'll've\": \"you will have\", \"you're\": \"you are\", \"you've\": \"you have\", 'u.s':'america', 'e.g':'for example'}\n",
    "\n",
    "punct = [',', '.', '\"', ':', ')', '(', '-', '!', '?', '|', ';', \"'\", '$', '&', '/', '[', ']', '>', '%', '=', '#', '*', '+', '\\\\', '•',  '~', '@', '£',\n",
    " '·', '_', '{', '}', '©', '^', '®', '`',  '<', '→', '°', '€', '™', '›',  '♥', '←', '×', '§', '″', '′', 'Â', '█', '½', 'à', '…',\n",
    " '“', '★', '”', '–', '●', 'â', '►', '−', '¢', '²', '¬', '░', '¶', '↑', '±', '¿', '▾', '═', '¦', '║', '―', '¥', '▓', '—', '‹', '─',\n",
    " '▒', '：', '¼', '⊕', '▼', '▪', '†', '■', '’', '▀', '¨', '▄', '♫', '☆', 'é', '¯', '♦', '¤', '▲', 'è', '¸', '¾', 'Ã', '⋅', '‘', '∞',\n",
    " '∙', '）', '↓', '、', '│', '（', '»', '，', '♪', '╩', '╚', '³', '・', '╦', '╣', '╔', '╗', '▬', '❤', 'ï', 'Ø', '¹', '≤', '‡', '√', ]\n",
    "\n",
    "punct_mapping = {\"‘\": \"'\", \"₹\": \"e\", \"´\": \"'\", \"°\": \"\", \"€\": \"e\", \"™\": \"tm\", \"√\": \" sqrt \", \"×\": \"x\", \"²\": \"2\", \"—\": \"-\", \"–\": \"-\", \"’\": \"'\", \"_\": \"-\",\n",
    "                 \"`\": \"'\", '“': '\"', '”': '\"', '“': '\"', \"£\": \"e\", '∞': 'infinity', 'θ': 'theta', '÷': '/', 'α': 'alpha', '•': '.', 'à': 'a', '−': '-',\n",
    "                 'β': 'beta', '∅': '', '³': '3', 'π': 'pi', '!':' '}\n",
    "\n",
    "mispell_dict = {'colour': 'color', 'centre': 'center', 'favourite': 'favorite', 'travelling': 'traveling', 'counselling': 'counseling', 'theatre': 'theater',\n",
    "                'cancelled': 'canceled', 'labour': 'labor', 'organisation': 'organization', 'wwii': 'world war 2', 'citicise': 'criticize', 'youtu ': 'youtube ',\n",
    "                'Qoura': 'Quora', 'sallary': 'salary', 'Whta': 'What', 'narcisist': 'narcissist', 'howdo': 'how do', 'whatare': 'what are', 'howcan': 'how can',\n",
    "                'howmuch': 'how much', 'howmany': 'how many', 'whydo': 'why do', 'doI': 'do I', 'theBest': 'the best', 'howdoes': 'how does',\n",
    "                'mastrubation': 'masturbation', 'mastrubate': 'masturbate', \"mastrubating\": 'masturbating', 'pennis': 'penis', 'Etherium': 'Ethereum',\n",
    "                'narcissit': 'narcissist', 'bigdata': 'big data', '2k17': '2017', '2k18': '2018', 'qouta': 'quota', 'exboyfriend': 'ex boyfriend',\n",
    "                'airhostess': 'air hostess', \"whst\": 'what', 'watsapp': 'whatsapp', 'demonitisation': 'demonetization', 'demonitization': 'demonetization',\n",
    "                'demonetisation': 'demonetization'}"
   ],
   "outputs": [],
   "execution_count": 55
  },
  {
   "cell_type": "code",
   "metadata": {
    "execution": {
     "iopub.execute_input": "2021-06-11T21:28:59.196743Z",
     "iopub.status.busy": "2021-06-11T21:28:59.196011Z",
     "iopub.status.idle": "2021-06-11T21:28:59.198619Z",
     "shell.execute_reply": "2021-06-11T21:28:59.199045Z",
     "shell.execute_reply.started": "2021-06-11T21:15:57.300598Z"
    },
    "papermill": {
     "duration": 0.04434,
     "end_time": "2021-06-11T21:28:59.199188",
     "exception": false,
     "start_time": "2021-06-11T21:28:59.154848",
     "status": "completed"
    },
    "tags": [],
    "id": "6CXk9AxJbiuA",
    "ExecuteTime": {
     "end_time": "2025-07-13T12:17:29.028565Z",
     "start_time": "2025-07-13T12:17:29.017393Z"
    }
   },
   "source": [
    "def clean_text(text):\n",
    "    '''Clean emoji, Make text lowercase, remove text in square brackets,remove links,remove punctuation\n",
    "    and remove words containing numbers.'''\n",
    "    text = emoji.demojize(text)\n",
    "    text = re.sub(r'\\:(.*?)\\:','',text)\n",
    "    text = str(text).lower()    #Making Text Lowercase\n",
    "    text = re.sub('\\[.*?\\]', '', text)\n",
    "    #The next 2 lines remove html text\n",
    "    text = BeautifulSoup(text, 'lxml').get_text()\n",
    "    text = re.sub('https?://\\S+|www\\.\\S+', '', text)\n",
    "    text = re.sub('<.*?>+', '', text)\n",
    "    text = re.sub('\\n', '', text)\n",
    "    text = re.sub('\\w*\\d\\w*', '', text)\n",
    "    # replacing everything with space except (a-z, A-Z, \".\", \"?\", \"!\", \",\", \"'\")\n",
    "    text = re.sub(r\"[^a-zA-Z?.!,¿']+\", \" \", text)\n",
    "    return text\n",
    "\n",
    "def clean_contractions(text, mapping):\n",
    "    '''Clean contraction using contraction mapping'''\n",
    "    specials = [\"’\", \"‘\", \"´\", \"`\"]\n",
    "    for s in specials:\n",
    "        text = text.replace(s, \"'\")\n",
    "    for word in mapping.keys():\n",
    "        if \"\"+word+\"\" in text:\n",
    "            text = text.replace(\"\"+word+\"\", \"\"+mapping[word]+\"\")\n",
    "    #Remove Punctuations\n",
    "    text = re.sub('[%s]' % re.escape(string.punctuation), '', text)\n",
    "    # creating a space between a word and the punctuation following it\n",
    "    # eg: \"he is a boy.\" => \"he is a boy .\"\n",
    "    text = re.sub(r\"([?.!,¿])\", r\" \\1 \", text)\n",
    "    text = re.sub(r'[\" \"]+', \" \", text)\n",
    "    return text\n",
    "\n",
    "def clean_special_chars(text, punct, mapping):\n",
    "    '''Cleans special characters present(if any)'''\n",
    "    for p in mapping:\n",
    "        text = text.replace(p, mapping[p])\n",
    "\n",
    "    for p in punct:\n",
    "        text = text.replace(p, f' {p} ')\n",
    "\n",
    "    specials = {'\\u200b': ' ', '…': ' ... ', '\\ufeff': '', 'करना': '', 'है': ''}\n",
    "    for s in specials:\n",
    "        text = text.replace(s, specials[s])\n",
    "\n",
    "    return text\n",
    "\n",
    "def correct_spelling(x, dic):\n",
    "    '''Corrects common spelling errors'''\n",
    "    for word in dic.keys():\n",
    "        x = x.replace(word, dic[word])\n",
    "    return x\n",
    "\n",
    "def remove_space(text):\n",
    "    '''Removes awkward spaces'''\n",
    "    #Removes awkward spaces\n",
    "    text = text.strip()\n",
    "    text = text.split()\n",
    "    return \" \".join(text)\n",
    "\n",
    "def text_preprocessing_pipeline(text):\n",
    "    '''Cleaning and parsing the text.'''\n",
    "    text = clean_text(text)\n",
    "    text = clean_contractions(text, contraction_mapping)\n",
    "    text = clean_special_chars(text, punct, punct_mapping)\n",
    "    text = correct_spelling(text, mispell_dict)\n",
    "    text = remove_space(text)\n",
    "    return text"
   ],
   "outputs": [],
   "execution_count": 56
  },
  {
   "cell_type": "code",
   "metadata": {
    "execution": {
     "iopub.execute_input": "2021-06-11T21:28:59.258238Z",
     "iopub.status.busy": "2021-06-11T21:28:59.257548Z",
     "iopub.status.idle": "2021-06-11T21:28:59.260402Z",
     "shell.execute_reply": "2021-06-11T21:28:59.259895Z",
     "shell.execute_reply.started": "2021-06-11T21:15:57.323244Z"
    },
    "papermill": {
     "duration": 0.033697,
     "end_time": "2021-06-11T21:28:59.260511",
     "exception": false,
     "start_time": "2021-06-11T21:28:59.226814",
     "status": "completed"
    },
    "tags": [],
    "id": "mDdBIgn7biuA",
    "ExecuteTime": {
     "end_time": "2025-07-13T12:17:29.131885Z",
     "start_time": "2025-07-13T12:17:29.129113Z"
    }
   },
   "source": [
    "# df_train['Text'] = df_train['Text'].apply(text_preprocessing_pipeline)\n",
    "# df_dev['Text'] = df_dev['Text'].apply(text_preprocessing_pipeline)"
   ],
   "outputs": [],
   "execution_count": 57
  },
  {
   "cell_type": "code",
   "metadata": {
    "execution": {
     "iopub.execute_input": "2021-06-11T21:28:59.322211Z",
     "iopub.status.busy": "2021-06-11T21:28:59.321692Z",
     "iopub.status.idle": "2021-06-11T21:28:59.606580Z",
     "shell.execute_reply": "2021-06-11T21:28:59.606074Z",
     "shell.execute_reply.started": "2021-06-11T21:15:57.338776Z"
    },
    "papermill": {
     "duration": 0.317198,
     "end_time": "2021-06-11T21:28:59.606719",
     "exception": false,
     "start_time": "2021-06-11T21:28:59.289521",
     "status": "completed"
    },
    "tags": [],
    "id": "mWinFb7xbiuB",
    "ExecuteTime": {
     "end_time": "2025-07-13T12:17:29.347424Z",
     "start_time": "2025-07-13T12:17:29.226213Z"
    }
   },
   "source": [
    "df_train.reset_index(drop=True).to_csv(\"train.csv\", index=False)\n",
    "df_dev.reset_index(drop=True).to_csv(\"val.csv\", index=False)"
   ],
   "outputs": [],
   "execution_count": 58
  },
  {
   "cell_type": "code",
   "metadata": {
    "execution": {
     "iopub.execute_input": "2021-06-11T21:28:59.671880Z",
     "iopub.status.busy": "2021-06-11T21:28:59.671049Z",
     "iopub.status.idle": "2021-06-11T21:28:59.674620Z",
     "shell.execute_reply": "2021-06-11T21:28:59.675113Z",
     "shell.execute_reply.started": "2021-06-11T21:15:57.851482Z"
    },
    "papermill": {
     "duration": 0.040494,
     "end_time": "2021-06-11T21:28:59.675251",
     "exception": false,
     "start_time": "2021-06-11T21:28:59.634757",
     "status": "completed"
    },
    "tags": [],
    "id": "S3Gzk2PnbiuB",
    "ExecuteTime": {
     "end_time": "2025-07-13T12:17:29.382102Z",
     "start_time": "2025-07-13T12:17:29.375178Z"
    }
   },
   "source": [
    "df_train = df_train.reset_index(drop=True)\n",
    "df_dev = df_dev.reset_index(drop=True)"
   ],
   "outputs": [],
   "execution_count": 59
  },
  {
   "cell_type": "code",
   "metadata": {
    "execution": {
     "iopub.execute_input": "2021-06-11T21:28:59.741598Z",
     "iopub.status.busy": "2021-06-11T21:28:59.740751Z",
     "iopub.status.idle": "2021-06-11T21:28:59.744654Z",
     "shell.execute_reply": "2021-06-11T21:28:59.744223Z",
     "shell.execute_reply.started": "2021-06-11T21:15:57.867833Z"
    },
    "papermill": {
     "duration": 0.041357,
     "end_time": "2021-06-11T21:28:59.744771",
     "exception": false,
     "start_time": "2021-06-11T21:28:59.703414",
     "status": "completed"
    },
    "tags": [],
    "colab": {
     "base_uri": "https://localhost:8080/",
     "height": 206
    },
    "id": "AcoFgBixbiuB",
    "outputId": "a3f480ef-b579-44f1-a6e8-41a52ba71db7",
    "ExecuteTime": {
     "end_time": "2025-07-13T12:17:29.441267Z",
     "start_time": "2025-07-13T12:17:29.432896Z"
    }
   },
   "source": [
    "df_train.head()"
   ],
   "outputs": [
    {
     "data": {
      "text/plain": [
       "                                                Text       ID  anger  fear  \\\n",
       "0                     WHY THE FUCK IS BAYLESS ISOING  eezlygj      1     0   \n",
       "1                        To make her feel threatened  ed7ypvh      0     1   \n",
       "2                             Dirty Southern Wankers  ed0bdzj      1     0   \n",
       "3  OmG pEyToN iSn'T gOoD eNoUgH tO hElP uS iN tHe...  edvnz26      0     0   \n",
       "4  Yes I heard abt the f bombs! That has to be wh...  ee3b6wu      0     0   \n",
       "\n",
       "   joy  sadness  surprise  \n",
       "0    0        0         0  \n",
       "1    0        0         0  \n",
       "2    0        0         0  \n",
       "3    0        0         1  \n",
       "4    1        0         0  "
      ],
      "text/html": [
       "<div>\n",
       "<style scoped>\n",
       "    .dataframe tbody tr th:only-of-type {\n",
       "        vertical-align: middle;\n",
       "    }\n",
       "\n",
       "    .dataframe tbody tr th {\n",
       "        vertical-align: top;\n",
       "    }\n",
       "\n",
       "    .dataframe thead th {\n",
       "        text-align: right;\n",
       "    }\n",
       "</style>\n",
       "<table border=\"1\" class=\"dataframe\">\n",
       "  <thead>\n",
       "    <tr style=\"text-align: right;\">\n",
       "      <th></th>\n",
       "      <th>Text</th>\n",
       "      <th>ID</th>\n",
       "      <th>anger</th>\n",
       "      <th>fear</th>\n",
       "      <th>joy</th>\n",
       "      <th>sadness</th>\n",
       "      <th>surprise</th>\n",
       "    </tr>\n",
       "  </thead>\n",
       "  <tbody>\n",
       "    <tr>\n",
       "      <th>0</th>\n",
       "      <td>WHY THE FUCK IS BAYLESS ISOING</td>\n",
       "      <td>eezlygj</td>\n",
       "      <td>1</td>\n",
       "      <td>0</td>\n",
       "      <td>0</td>\n",
       "      <td>0</td>\n",
       "      <td>0</td>\n",
       "    </tr>\n",
       "    <tr>\n",
       "      <th>1</th>\n",
       "      <td>To make her feel threatened</td>\n",
       "      <td>ed7ypvh</td>\n",
       "      <td>0</td>\n",
       "      <td>1</td>\n",
       "      <td>0</td>\n",
       "      <td>0</td>\n",
       "      <td>0</td>\n",
       "    </tr>\n",
       "    <tr>\n",
       "      <th>2</th>\n",
       "      <td>Dirty Southern Wankers</td>\n",
       "      <td>ed0bdzj</td>\n",
       "      <td>1</td>\n",
       "      <td>0</td>\n",
       "      <td>0</td>\n",
       "      <td>0</td>\n",
       "      <td>0</td>\n",
       "    </tr>\n",
       "    <tr>\n",
       "      <th>3</th>\n",
       "      <td>OmG pEyToN iSn'T gOoD eNoUgH tO hElP uS iN tHe...</td>\n",
       "      <td>edvnz26</td>\n",
       "      <td>0</td>\n",
       "      <td>0</td>\n",
       "      <td>0</td>\n",
       "      <td>0</td>\n",
       "      <td>1</td>\n",
       "    </tr>\n",
       "    <tr>\n",
       "      <th>4</th>\n",
       "      <td>Yes I heard abt the f bombs! That has to be wh...</td>\n",
       "      <td>ee3b6wu</td>\n",
       "      <td>0</td>\n",
       "      <td>0</td>\n",
       "      <td>1</td>\n",
       "      <td>0</td>\n",
       "      <td>0</td>\n",
       "    </tr>\n",
       "  </tbody>\n",
       "</table>\n",
       "</div>"
      ]
     },
     "execution_count": 60,
     "metadata": {},
     "output_type": "execute_result"
    }
   ],
   "execution_count": 60
  },
  {
   "cell_type": "code",
   "metadata": {
    "execution": {
     "iopub.execute_input": "2021-06-11T21:28:59.805866Z",
     "iopub.status.busy": "2021-06-11T21:28:59.805059Z",
     "iopub.status.idle": "2021-06-11T21:28:59.809485Z",
     "shell.execute_reply": "2021-06-11T21:28:59.808874Z",
     "shell.execute_reply.started": "2021-06-11T21:15:57.889795Z"
    },
    "papermill": {
     "duration": 0.036698,
     "end_time": "2021-06-11T21:28:59.809641",
     "exception": false,
     "start_time": "2021-06-11T21:28:59.772943",
     "status": "completed"
    },
    "tags": [],
    "colab": {
     "base_uri": "https://localhost:8080/"
    },
    "id": "RZQ4MYP5biuB",
    "outputId": "6c521b08-b891-4d62-95f6-cc1ab76c86f0",
    "ExecuteTime": {
     "end_time": "2025-07-13T12:17:29.562241Z",
     "start_time": "2025-07-13T12:17:29.558783Z"
    }
   },
   "source": [
    "print(df_train.shape)\n",
    "print(df_dev.shape)"
   ],
   "outputs": [
    {
     "name": "stdout",
     "output_type": "stream",
     "text": [
      "(28427, 7)\n",
      "(3564, 7)\n"
     ]
    }
   ],
   "execution_count": 61
  },
  {
   "cell_type": "code",
   "metadata": {
    "execution": {
     "iopub.execute_input": "2021-06-11T21:28:59.918208Z",
     "iopub.status.busy": "2021-06-11T21:28:59.917621Z",
     "iopub.status.idle": "2021-06-11T21:28:59.920440Z",
     "shell.execute_reply": "2021-06-11T21:28:59.920815Z",
     "shell.execute_reply.started": "2021-06-11T21:15:57.900528Z"
    },
    "papermill": {
     "duration": 0.081819,
     "end_time": "2021-06-11T21:28:59.920963",
     "exception": false,
     "start_time": "2021-06-11T21:28:59.839144",
     "status": "completed"
    },
    "tags": [],
    "id": "dBg3WMQAbiuB",
    "ExecuteTime": {
     "end_time": "2025-07-13T12:17:29.786816Z",
     "start_time": "2025-07-13T12:17:29.783797Z"
    }
   },
   "source": [
    "device = 'cuda' if torch.cuda.is_available() else 'cpu'"
   ],
   "outputs": [],
   "execution_count": 62
  },
  {
   "cell_type": "code",
   "metadata": {
    "execution": {
     "iopub.execute_input": "2021-06-11T21:28:59.983349Z",
     "iopub.status.busy": "2021-06-11T21:28:59.982541Z",
     "iopub.status.idle": "2021-06-11T21:29:03.832972Z",
     "shell.execute_reply": "2021-06-11T21:29:03.832524Z",
     "shell.execute_reply.started": "2021-06-11T21:15:57.952876Z"
    },
    "papermill": {
     "duration": 3.883275,
     "end_time": "2021-06-11T21:29:03.833116",
     "exception": false,
     "start_time": "2021-06-11T21:28:59.949841",
     "status": "completed"
    },
    "tags": [],
    "id": "sa823CtEbiuB",
    "ExecuteTime": {
     "end_time": "2025-07-13T12:17:30.623134Z",
     "start_time": "2025-07-13T12:17:29.991785Z"
    }
   },
   "source": [
    "# Sections of config\n",
    "\n",
    "# Defining some key variables that will be used later on in the training\n",
    "MAX_LEN = 200\n",
    "TRAIN_BATCH_SIZE = 64\n",
    "VALID_BATCH_SIZE = 64\n",
    "EPOCHS = 10\n",
    "LEARNING_RATE = 2e-5\n",
    "tokenizer = AutoTokenizer.from_pretrained('roberta-base')"
   ],
   "outputs": [],
   "execution_count": 63
  },
  {
   "cell_type": "code",
   "metadata": {
    "execution": {
     "iopub.execute_input": "2021-06-11T21:29:03.899026Z",
     "iopub.status.busy": "2021-06-11T21:29:03.898373Z",
     "iopub.status.idle": "2021-06-11T21:29:03.901878Z",
     "shell.execute_reply": "2021-06-11T21:29:03.901458Z",
     "shell.execute_reply.started": "2021-06-11T21:16:02.470288Z"
    },
    "papermill": {
     "duration": 0.038399,
     "end_time": "2021-06-11T21:29:03.901991",
     "exception": false,
     "start_time": "2021-06-11T21:29:03.863592",
     "status": "completed"
    },
    "tags": [],
    "colab": {
     "base_uri": "https://localhost:8080/"
    },
    "id": "JiloLeWIbiuB",
    "outputId": "0d486367-e95b-4e77-e868-22a8f62b0877",
    "ExecuteTime": {
     "end_time": "2025-07-13T12:17:30.655513Z",
     "start_time": "2025-07-13T12:17:30.650545Z"
    }
   },
   "source": [
    "target_cols = [col for col in df_train.columns if col not in ['Text', 'ID']]\n",
    "target_cols"
   ],
   "outputs": [
    {
     "data": {
      "text/plain": [
       "['anger', 'fear', 'joy', 'sadness', 'surprise']"
      ]
     },
     "execution_count": 64,
     "metadata": {},
     "output_type": "execute_result"
    }
   ],
   "execution_count": 64
  },
  {
   "cell_type": "code",
   "metadata": {
    "execution": {
     "iopub.execute_input": "2021-06-11T21:29:03.970360Z",
     "iopub.status.busy": "2021-06-11T21:29:03.969642Z",
     "iopub.status.idle": "2021-06-11T21:29:03.972064Z",
     "shell.execute_reply": "2021-06-11T21:29:03.972485Z",
     "shell.execute_reply.started": "2021-06-11T21:16:02.482242Z"
    },
    "papermill": {
     "duration": 0.040433,
     "end_time": "2021-06-11T21:29:03.972621",
     "exception": false,
     "start_time": "2021-06-11T21:29:03.932188",
     "status": "completed"
    },
    "tags": [],
    "id": "Iegn4Gb6biuC",
    "ExecuteTime": {
     "end_time": "2025-07-13T12:17:30.776515Z",
     "start_time": "2025-07-13T12:17:30.769594Z"
    }
   },
   "source": [
    "class BERTDataset(Dataset):\n",
    "    def __init__(self, df, tokenizer, max_len):\n",
    "        self.df = df\n",
    "        self.max_len = max_len\n",
    "        self.text = df.Text\n",
    "        self.tokenizer = tokenizer\n",
    "        self.targets = df[target_cols].values\n",
    "\n",
    "    def __len__(self):\n",
    "        return len(self.df)\n",
    "\n",
    "    def __getitem__(self, index):\n",
    "        text = self.text[index]\n",
    "        inputs = self.tokenizer.encode_plus(\n",
    "            text,\n",
    "            truncation=True,\n",
    "            add_special_tokens=True,\n",
    "            max_length=self.max_len,\n",
    "            padding='max_length',\n",
    "            return_token_type_ids=True\n",
    "        )\n",
    "        ids = inputs['input_ids']\n",
    "        mask = inputs['attention_mask']\n",
    "        token_type_ids = inputs[\"token_type_ids\"]\n",
    "\n",
    "        return {\n",
    "            'ids': torch.tensor(ids, dtype=torch.long),\n",
    "            'mask': torch.tensor(mask, dtype=torch.long),\n",
    "            'token_type_ids': torch.tensor(token_type_ids, dtype=torch.long),\n",
    "            'targets': torch.tensor(self.targets[index], dtype=torch.float)\n",
    "        }"
   ],
   "outputs": [],
   "execution_count": 65
  },
  {
   "cell_type": "code",
   "metadata": {
    "execution": {
     "iopub.execute_input": "2021-06-11T21:29:04.039477Z",
     "iopub.status.busy": "2021-06-11T21:29:04.038789Z",
     "iopub.status.idle": "2021-06-11T21:29:04.041702Z",
     "shell.execute_reply": "2021-06-11T21:29:04.041303Z",
     "shell.execute_reply.started": "2021-06-11T21:16:02.497075Z"
    },
    "papermill": {
     "duration": 0.038889,
     "end_time": "2021-06-11T21:29:04.041812",
     "exception": false,
     "start_time": "2021-06-11T21:29:04.002923",
     "status": "completed"
    },
    "tags": [],
    "id": "GSkoCR_xbiuC",
    "ExecuteTime": {
     "end_time": "2025-07-13T12:17:30.879849Z",
     "start_time": "2025-07-13T12:17:30.874467Z"
    }
   },
   "source": [
    "train_dataset = BERTDataset(df_train, tokenizer, MAX_LEN)\n",
    "valid_dataset = BERTDataset(df_dev, tokenizer, MAX_LEN)"
   ],
   "outputs": [],
   "execution_count": 66
  },
  {
   "cell_type": "code",
   "metadata": {
    "execution": {
     "iopub.execute_input": "2021-06-11T21:29:04.107128Z",
     "iopub.status.busy": "2021-06-11T21:29:04.106269Z",
     "iopub.status.idle": "2021-06-11T21:29:04.109641Z",
     "shell.execute_reply": "2021-06-11T21:29:04.108492Z",
     "shell.execute_reply.started": "2021-06-11T21:16:02.517518Z"
    },
    "papermill": {
     "duration": 0.037963,
     "end_time": "2021-06-11T21:29:04.109787",
     "exception": false,
     "start_time": "2021-06-11T21:29:04.071824",
     "status": "completed"
    },
    "tags": [],
    "id": "pf3yWxL0biuC",
    "ExecuteTime": {
     "end_time": "2025-07-13T12:17:30.942060Z",
     "start_time": "2025-07-13T12:17:30.935863Z"
    }
   },
   "source": [
    "train_loader = DataLoader(train_dataset, batch_size=TRAIN_BATCH_SIZE,\n",
    "                          num_workers=4, shuffle=True, pin_memory=True)\n",
    "valid_loader = DataLoader(valid_dataset, batch_size=VALID_BATCH_SIZE,\n",
    "                          num_workers=4, shuffle=False, pin_memory=True)"
   ],
   "outputs": [],
   "execution_count": 67
  },
  {
   "cell_type": "code",
   "metadata": {
    "execution": {
     "iopub.execute_input": "2021-06-11T21:29:04.213689Z",
     "iopub.status.busy": "2021-06-11T21:29:04.212831Z",
     "iopub.status.idle": "2021-06-11T21:29:34.755358Z",
     "shell.execute_reply": "2021-06-11T21:29:34.754889Z",
     "shell.execute_reply.started": "2021-06-11T21:16:02.529823Z"
    },
    "papermill": {
     "duration": 30.597708,
     "end_time": "2021-06-11T21:29:34.755506",
     "exception": false,
     "start_time": "2021-06-11T21:29:04.157798",
     "status": "completed"
    },
    "tags": [],
    "colab": {
     "base_uri": "https://localhost:8080/"
    },
    "id": "VNGu8l3ZbiuC",
    "outputId": "aa46449f-65c4-4f78-d551-fa42c933b142"
   },
   "source": [
    "# Creating the customized model, by adding a drop out and a dense layer on top of distil bert to get the final output for the model.\n",
    "\n",
    "class BERTClass(torch.nn.Module):\n",
    "    def __init__(self):\n",
    "        super(BERTClass, self).__init__()\n",
    "        self.roberta = AutoModel.from_pretrained('roberta-base')\n",
    "#         self.l2 = torch.nn.Dropout(0.3)\n",
    "        self.fc = torch.nn.Linear(768,5)\n",
    "\n",
    "    def forward(self, ids, mask, token_type_ids):\n",
    "        _, features = self.roberta(ids, attention_mask = mask, token_type_ids = token_type_ids, return_dict=False)\n",
    "#         output_2 = self.l2(output_1)\n",
    "        output = self.fc(features)\n",
    "        return output\n",
    "\n",
    "model = BERTClass()\n",
    "model.to(device);"
   ],
   "outputs": [],
   "execution_count": null
  },
  {
   "cell_type": "code",
   "metadata": {
    "execution": {
     "iopub.execute_input": "2021-06-11T21:29:34.822035Z",
     "iopub.status.busy": "2021-06-11T21:29:34.821247Z",
     "iopub.status.idle": "2021-06-11T21:29:34.824023Z",
     "shell.execute_reply": "2021-06-11T21:29:34.823616Z",
     "shell.execute_reply.started": "2021-06-11T21:16:29.734879Z"
    },
    "papermill": {
     "duration": 0.037499,
     "end_time": "2021-06-11T21:29:34.824140",
     "exception": false,
     "start_time": "2021-06-11T21:29:34.786641",
     "status": "completed"
    },
    "tags": [],
    "id": "rBCM0vlDbiuC",
    "ExecuteTime": {
     "end_time": "2025-07-13T12:17:31.291779Z",
     "start_time": "2025-07-13T12:17:31.288633Z"
    }
   },
   "source": [
    "def loss_fn(outputs, targets):\n",
    "    return torch.nn.BCEWithLogitsLoss()(outputs, targets)"
   ],
   "outputs": [],
   "execution_count": 69
  },
  {
   "cell_type": "code",
   "metadata": {
    "execution": {
     "iopub.execute_input": "2021-06-11T21:29:34.893041Z",
     "iopub.status.busy": "2021-06-11T21:29:34.892281Z",
     "iopub.status.idle": "2021-06-11T21:29:34.895452Z",
     "shell.execute_reply": "2021-06-11T21:29:34.895036Z",
     "shell.execute_reply.started": "2021-06-11T21:16:29.758386Z"
    },
    "papermill": {
     "duration": 0.040684,
     "end_time": "2021-06-11T21:29:34.895572",
     "exception": false,
     "start_time": "2021-06-11T21:29:34.854888",
     "status": "completed"
    },
    "tags": [],
    "id": "GuP-aErpbiuC",
    "ExecuteTime": {
     "end_time": "2025-07-13T12:17:31.348235Z",
     "start_time": "2025-07-13T12:17:31.343094Z"
    }
   },
   "source": [
    "optimizer = AdamW(params =  model.parameters(), lr=LEARNING_RATE, weight_decay=1e-6)"
   ],
   "outputs": [],
   "execution_count": 70
  },
  {
   "cell_type": "code",
   "metadata": {
    "execution": {
     "iopub.execute_input": "2021-06-11T21:29:34.964971Z",
     "iopub.status.busy": "2021-06-11T21:29:34.964177Z",
     "iopub.status.idle": "2021-06-11T21:29:34.967044Z",
     "shell.execute_reply": "2021-06-11T21:29:34.966645Z",
     "shell.execute_reply.started": "2021-06-11T21:16:29.783347Z"
    },
    "papermill": {
     "duration": 0.040297,
     "end_time": "2021-06-11T21:29:34.967157",
     "exception": false,
     "start_time": "2021-06-11T21:29:34.926860",
     "status": "completed"
    },
    "tags": [],
    "id": "K1T1giXobiuD",
    "ExecuteTime": {
     "end_time": "2025-07-13T12:17:31.405255Z",
     "start_time": "2025-07-13T12:17:31.399670Z"
    }
   },
   "source": [
    "def train(epoch):\n",
    "    model.train()\n",
    "    for _,data in enumerate(train_loader, 0):\n",
    "        ids = data['ids'].to(device, dtype = torch.long)\n",
    "        mask = data['mask'].to(device, dtype = torch.long)\n",
    "        token_type_ids = data['token_type_ids'].to(device, dtype = torch.long)\n",
    "        targets = data['targets'].to(device, dtype = torch.float)\n",
    "\n",
    "        outputs = model(ids, mask, token_type_ids)\n",
    "\n",
    "        loss = loss_fn(outputs, targets)\n",
    "        if _%500 == 0:\n",
    "            print(f'Epoch: {epoch}, Loss:  {loss.item()}')\n",
    "\n",
    "        loss.backward()\n",
    "        optimizer.step()\n",
    "        optimizer.zero_grad()"
   ],
   "outputs": [],
   "execution_count": 71
  },
  {
   "cell_type": "code",
   "metadata": {
    "execution": {
     "iopub.execute_input": "2021-06-11T21:29:35.034748Z",
     "iopub.status.busy": "2021-06-11T21:29:35.034127Z",
     "iopub.status.idle": "2021-06-11T22:55:55.458732Z",
     "shell.execute_reply": "2021-06-11T22:55:55.456890Z",
     "shell.execute_reply.started": "2021-06-11T21:16:29.807005Z"
    },
    "papermill": {
     "duration": 5180.461011,
     "end_time": "2021-06-11T22:55:55.458904",
     "exception": false,
     "start_time": "2021-06-11T21:29:34.997893",
     "status": "completed"
    },
    "tags": [],
    "id": "1aU3wxsybiuD"
   },
   "source": [
    "for epoch in range(EPOCHS):\n",
    "    train(epoch)"
   ],
   "outputs": [],
   "execution_count": null
  },
  {
   "cell_type": "code",
   "execution_count": null,
   "metadata": {
    "execution": {
     "iopub.execute_input": "2021-06-11T22:55:55.537606Z",
     "iopub.status.busy": "2021-06-11T22:55:55.536753Z",
     "iopub.status.idle": "2021-06-11T22:55:55.539488Z",
     "shell.execute_reply": "2021-06-11T22:55:55.539049Z"
    },
    "papermill": {
     "duration": 0.045056,
     "end_time": "2021-06-11T22:55:55.539608",
     "exception": false,
     "start_time": "2021-06-11T22:55:55.494552",
     "status": "completed"
    },
    "tags": [],
    "id": "Rj8d53lUbiuD"
   },
   "outputs": [],
   "source": [
    "def validation():\n",
    "    model.eval()\n",
    "    fin_targets=[]\n",
    "    fin_outputs=[]\n",
    "    with torch.no_grad():\n",
    "        for _, data in enumerate(valid_loader, 0):\n",
    "            ids = data['ids'].to(device, dtype = torch.long)\n",
    "            mask = data['mask'].to(device, dtype = torch.long)\n",
    "            token_type_ids = data['token_type_ids'].to(device, dtype = torch.long)\n",
    "            targets = data['targets'].to(device, dtype = torch.float)\n",
    "            outputs = model(ids, mask, token_type_ids)\n",
    "            fin_targets.extend(targets.cpu().detach().numpy().tolist())\n",
    "            fin_outputs.extend(torch.sigmoid(outputs).cpu().detach().numpy().tolist())\n",
    "    return fin_outputs, fin_targets"
   ]
  },
  {
   "cell_type": "code",
   "execution_count": null,
   "metadata": {
    "execution": {
     "iopub.execute_input": "2021-06-11T22:55:55.614823Z",
     "iopub.status.busy": "2021-06-11T22:55:55.613934Z",
     "iopub.status.idle": "2021-06-11T22:56:17.386070Z",
     "shell.execute_reply": "2021-06-11T22:56:17.384740Z"
    },
    "papermill": {
     "duration": 21.811836,
     "end_time": "2021-06-11T22:56:17.386222",
     "exception": false,
     "start_time": "2021-06-11T22:55:55.574386",
     "status": "completed"
    },
    "tags": [],
    "id": "O1PQvMUTbiuD"
   },
   "outputs": [],
   "source": [
    "outputs, targets = validation()\n",
    "outputs = np.array(outputs) >= 0.5\n",
    "accuracy = metrics.accuracy_score(targets, outputs)\n",
    "f1_score_micro = metrics.f1_score(targets, outputs, average='micro')\n",
    "f1_score_macro = metrics.f1_score(targets, outputs, average='macro')\n",
    "print(f\"Accuracy Score = {accuracy}\")\n",
    "print(f\"F1 Score (Micro) = {f1_score_micro}\")\n",
    "print(f\"F1 Score (Macro) = {f1_score_macro}\")"
   ]
  },
  {
   "cell_type": "code",
   "execution_count": null,
   "metadata": {
    "execution": {
     "iopub.execute_input": "2021-06-11T22:56:17.462139Z",
     "iopub.status.busy": "2021-06-11T22:56:17.461345Z",
     "iopub.status.idle": "2021-06-11T22:56:19.174725Z",
     "shell.execute_reply": "2021-06-11T22:56:19.173956Z"
    },
    "papermill": {
     "duration": 1.75423,
     "end_time": "2021-06-11T22:56:19.174876",
     "exception": false,
     "start_time": "2021-06-11T22:56:17.420646",
     "status": "completed"
    },
    "tags": [],
    "id": "qNphNYwEbiuD"
   },
   "outputs": [],
   "source": [
    "torch.save(model.state_dict(), 'model.bin')"
   ]
  },
  {
   "cell_type": "code",
   "execution_count": null,
   "metadata": {
    "execution": {
     "iopub.execute_input": "2021-06-11T22:56:19.247957Z",
     "iopub.status.busy": "2021-06-11T22:56:19.247427Z",
     "iopub.status.idle": "2021-06-11T22:56:19.251223Z",
     "shell.execute_reply": "2021-06-11T22:56:19.250779Z"
    },
    "papermill": {
     "duration": 0.041352,
     "end_time": "2021-06-11T22:56:19.251350",
     "exception": false,
     "start_time": "2021-06-11T22:56:19.209998",
     "status": "completed"
    },
    "tags": [],
    "id": "76ZGQOxebiuD"
   },
   "outputs": [],
   "source": [
    "# from transformers import AutoConfig, AutoModel"
   ]
  },
  {
   "cell_type": "code",
   "execution_count": null,
   "metadata": {
    "execution": {
     "iopub.execute_input": "2021-06-11T22:56:19.323111Z",
     "iopub.status.busy": "2021-06-11T22:56:19.322360Z",
     "iopub.status.idle": "2021-06-11T22:56:19.325260Z",
     "shell.execute_reply": "2021-06-11T22:56:19.324836Z"
    },
    "papermill": {
     "duration": 0.040399,
     "end_time": "2021-06-11T22:56:19.325386",
     "exception": false,
     "start_time": "2021-06-11T22:56:19.284987",
     "status": "completed"
    },
    "tags": [],
    "id": "P_t_jUj9biuE"
   },
   "outputs": [],
   "source": [
    "#config = AutoConfig.from_pretrained('bert-base-uncased')\n",
    "#model =  AutoModel.from_config(config)"
   ]
  },
  {
   "cell_type": "code",
   "execution_count": null,
   "metadata": {
    "execution": {
     "iopub.execute_input": "2021-06-11T22:56:19.400879Z",
     "iopub.status.busy": "2021-06-11T22:56:19.400120Z",
     "iopub.status.idle": "2021-06-11T22:56:19.403066Z",
     "shell.execute_reply": "2021-06-11T22:56:19.402515Z"
    },
    "papermill": {
     "duration": 0.042212,
     "end_time": "2021-06-11T22:56:19.403191",
     "exception": false,
     "start_time": "2021-06-11T22:56:19.360979",
     "status": "completed"
    },
    "tags": [],
    "id": "r3XzDGu4biuI"
   },
   "outputs": [],
   "source": [
    "#PATH = \"\"\n",
    "#model.load_state_dict(torch.load(PATH))"
   ]
  },
  {
   "cell_type": "code",
   "execution_count": null,
   "metadata": {
    "papermill": {
     "duration": 0.042397,
     "end_time": "2021-06-11T22:56:19.481160",
     "exception": false,
     "start_time": "2021-06-11T22:56:19.438763",
     "status": "completed"
    },
    "tags": [],
    "id": "mcBXQtH2biuI"
   },
   "outputs": [],
   "source": []
  }
 ],
 "metadata": {
  "kernelspec": {
   "display_name": "Python 3",
   "language": "python",
   "name": "python3"
  },
  "language_info": {
   "codemirror_mode": {
    "name": "ipython",
    "version": 3
   },
   "file_extension": ".py",
   "mimetype": "text/x-python",
   "name": "python",
   "nbconvert_exporter": "python",
   "pygments_lexer": "ipython3",
   "version": "3.7.9"
  },
  "papermill": {
   "default_parameters": {},
   "duration": 5258.830687,
   "end_time": "2021-06-11T22:56:20.628315",
   "environment_variables": {},
   "exception": null,
   "input_path": "__notebook__.ipynb",
   "output_path": "__notebook__.ipynb",
   "parameters": {},
   "start_time": "2021-06-11T21:28:41.797628",
   "version": "2.2.2"
  },
  "colab": {
   "provenance": []
  }
 },
 "nbformat": 4,
 "nbformat_minor": 0
}
